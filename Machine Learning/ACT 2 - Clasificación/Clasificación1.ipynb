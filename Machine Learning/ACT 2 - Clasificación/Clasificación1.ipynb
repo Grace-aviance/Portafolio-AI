{
 "cells": [
  {
   "cell_type": "markdown",
   "metadata": {},
   "source": [
    "# ACTIVIDAD 2. Problemas de Clasificación\n",
    "\n",
    "A01285158 | Grace Aviance"
   ]
  },
  {
   "cell_type": "markdown",
   "metadata": {},
   "source": [
    "## EJERCICIO 1"
   ]
  },
  {
   "cell_type": "markdown",
   "metadata": {},
   "source": [
    "En estos archivos se tienen datos procesados de un experimento de psicología en el que se mide la respuesta cerebral cuando un sujeto presta atención a un estímulo visual que aparece de manera repentina y cuando no presta atención a dicho estímulo visual. \n",
    "\n",
    "Los datos están en archivos de texto, los cuales se cargan con la función loadtxt de numpy (https://numpy.org/doc/stable/reference/generated/numpy.loadtxt.html)\n",
    "\n",
    "- La primera columna corresponde a la clase (1 o 2). \n",
    "- La clase 1 representa cuando el sujeto está prestando atención, y la clase 2 cuando no lo hace. \n",
    "- La segunda columna se ignora, mientras que el resto de las columnas indican las variables que se calcularon de la respuesta cerebral medida con la técnicas de Electroencefaolografía para cada caso.\n",
    "\n",
    "Para tu conjunto de datos:\n",
    "\n",
    "1. Determina si es necesario balancear los datos. En caso de que sea afirmativo, en todo este ejercicio tendrás que utilizar alguna estrategia para mitigar el problema de tener una muestra desbalanceada.\n",
    "\n",
    "2. Evalúa al menos 8 modelos de clasificación distintos utilizando validación cruzada, y determina cuál de ellos es el más efectivo.\n",
    "\n",
    "3. Implementa desde cero el método de regresión logística, y evalúalo con el conjunto de datos. \n",
    "\n",
    "4. Con alguno de los clasificadores que probaste en los pasos anteriores, determina el número óptimo de características utilizando un método tipo Filter.\n",
    "\n",
    "5. Repite el paso anterior, pero para un método de selección de características secuencial.\n",
    "\n",
    "6. Repite el paso 4, pero para un método de selección de características recursivo.\n",
    "\n",
    "7. Escoge alguna de las técnicas de selección de características que probaste con anteioridad, y con el número óptimo de características encontrado, prepara tu modelo para producción haciendo lo siguiente:\n",
    "a. Aplica el método de selección de características con todos los datos.\n",
    "b. Ajusta el modelo con las características encontradas.\n",
    "\n",
    "8. Contesta las siguientes preguntas:\n",
    "\n",
    "- A) ¿Qué pasa si no se considera el problema de tener datos desbalanceados para este caso? ¿Por qué?\n",
    "\n",
    "- B) De todos los clasificadores, ¿cuál o cuales consideras que son adecuados para los datos? ¿Qué propiedades tienen dichos modelos que los hacen apropiados para los datos? Argumenta tu respuesta.\n",
    "\n",
    "- C) ¿Es posibles reducir la dimensionalidad del problema sin perder rendimiento en el modelo? ¿Por qué?\n",
    " \n",
    "- D) ¿Qué método de selección de características consideras el más adecuado para este caso? ¿Por qué?\n",
    "\n",
    "- E) Si quisieras mejorar el rendimiento de tus modelos, ¿qué más se podría hacer?"
   ]
  },
  {
   "cell_type": "code",
   "execution_count": 1,
   "metadata": {},
   "outputs": [],
   "source": [
    "import numpy as np\n",
    "import pandas as pd\n",
    "\n",
    "df_txt = np.loadtxt(\"P1_5.txt\")\n",
    "df = pd.DataFrame(df_txt)\n",
    "df.drop(columns = 1, inplace = True)"
   ]
  },
  {
   "cell_type": "code",
   "execution_count": 2,
   "metadata": {},
   "outputs": [
    {
     "data": {
      "text/html": [
       "<div>\n",
       "<style scoped>\n",
       "    .dataframe tbody tr th:only-of-type {\n",
       "        vertical-align: middle;\n",
       "    }\n",
       "\n",
       "    .dataframe tbody tr th {\n",
       "        vertical-align: top;\n",
       "    }\n",
       "\n",
       "    .dataframe thead th {\n",
       "        text-align: right;\n",
       "    }\n",
       "</style>\n",
       "<table border=\"1\" class=\"dataframe\">\n",
       "  <thead>\n",
       "    <tr style=\"text-align: right;\">\n",
       "      <th></th>\n",
       "      <th>0</th>\n",
       "      <th>2</th>\n",
       "      <th>3</th>\n",
       "      <th>4</th>\n",
       "      <th>5</th>\n",
       "      <th>6</th>\n",
       "      <th>7</th>\n",
       "      <th>8</th>\n",
       "      <th>9</th>\n",
       "      <th>10</th>\n",
       "      <th>...</th>\n",
       "      <th>145</th>\n",
       "      <th>146</th>\n",
       "      <th>147</th>\n",
       "      <th>148</th>\n",
       "      <th>149</th>\n",
       "      <th>150</th>\n",
       "      <th>151</th>\n",
       "      <th>152</th>\n",
       "      <th>153</th>\n",
       "      <th>154</th>\n",
       "    </tr>\n",
       "  </thead>\n",
       "  <tbody>\n",
       "    <tr>\n",
       "      <th>0</th>\n",
       "      <td>1.0</td>\n",
       "      <td>6.778645</td>\n",
       "      <td>5.554810</td>\n",
       "      <td>4.935933</td>\n",
       "      <td>5.639114</td>\n",
       "      <td>6.603463</td>\n",
       "      <td>6.309278</td>\n",
       "      <td>4.738829</td>\n",
       "      <td>3.110043</td>\n",
       "      <td>2.167682</td>\n",
       "      <td>...</td>\n",
       "      <td>0.129900</td>\n",
       "      <td>-0.609716</td>\n",
       "      <td>-0.822197</td>\n",
       "      <td>-0.109120</td>\n",
       "      <td>0.899585</td>\n",
       "      <td>1.374105</td>\n",
       "      <td>1.187913</td>\n",
       "      <td>0.742605</td>\n",
       "      <td>0.347446</td>\n",
       "      <td>0.131211</td>\n",
       "    </tr>\n",
       "    <tr>\n",
       "      <th>1</th>\n",
       "      <td>1.0</td>\n",
       "      <td>-0.354725</td>\n",
       "      <td>-0.210143</td>\n",
       "      <td>-0.337065</td>\n",
       "      <td>-0.613978</td>\n",
       "      <td>-0.725109</td>\n",
       "      <td>-0.509282</td>\n",
       "      <td>-0.154146</td>\n",
       "      <td>0.062651</td>\n",
       "      <td>0.102172</td>\n",
       "      <td>...</td>\n",
       "      <td>-0.468649</td>\n",
       "      <td>-0.052648</td>\n",
       "      <td>0.544180</td>\n",
       "      <td>0.781654</td>\n",
       "      <td>0.833143</td>\n",
       "      <td>1.253793</td>\n",
       "      <td>1.914558</td>\n",
       "      <td>2.013101</td>\n",
       "      <td>1.287430</td>\n",
       "      <td>0.521264</td>\n",
       "    </tr>\n",
       "    <tr>\n",
       "      <th>2</th>\n",
       "      <td>1.0</td>\n",
       "      <td>1.727716</td>\n",
       "      <td>2.056163</td>\n",
       "      <td>1.876898</td>\n",
       "      <td>0.992565</td>\n",
       "      <td>0.224456</td>\n",
       "      <td>0.429907</td>\n",
       "      <td>1.229387</td>\n",
       "      <td>1.403841</td>\n",
       "      <td>0.507216</td>\n",
       "      <td>...</td>\n",
       "      <td>-0.365350</td>\n",
       "      <td>-0.827163</td>\n",
       "      <td>0.208835</td>\n",
       "      <td>1.473647</td>\n",
       "      <td>1.545710</td>\n",
       "      <td>0.672175</td>\n",
       "      <td>0.097850</td>\n",
       "      <td>0.288585</td>\n",
       "      <td>0.679454</td>\n",
       "      <td>0.822155</td>\n",
       "    </tr>\n",
       "    <tr>\n",
       "      <th>3</th>\n",
       "      <td>1.0</td>\n",
       "      <td>1.064721</td>\n",
       "      <td>1.299112</td>\n",
       "      <td>0.705400</td>\n",
       "      <td>0.422355</td>\n",
       "      <td>1.269587</td>\n",
       "      <td>2.672225</td>\n",
       "      <td>3.240471</td>\n",
       "      <td>2.234018</td>\n",
       "      <td>0.275905</td>\n",
       "      <td>...</td>\n",
       "      <td>0.026794</td>\n",
       "      <td>-0.726883</td>\n",
       "      <td>-0.768780</td>\n",
       "      <td>-0.600054</td>\n",
       "      <td>-0.948638</td>\n",
       "      <td>-1.688718</td>\n",
       "      <td>-1.858080</td>\n",
       "      <td>-0.862087</td>\n",
       "      <td>0.660512</td>\n",
       "      <td>1.426284</td>\n",
       "    </tr>\n",
       "    <tr>\n",
       "      <th>4</th>\n",
       "      <td>1.0</td>\n",
       "      <td>-0.010284</td>\n",
       "      <td>-0.097968</td>\n",
       "      <td>-0.345274</td>\n",
       "      <td>-0.216691</td>\n",
       "      <td>0.351261</td>\n",
       "      <td>0.781839</td>\n",
       "      <td>0.695825</td>\n",
       "      <td>0.298840</td>\n",
       "      <td>-0.198690</td>\n",
       "      <td>...</td>\n",
       "      <td>1.946469</td>\n",
       "      <td>0.730151</td>\n",
       "      <td>-0.396311</td>\n",
       "      <td>-0.324040</td>\n",
       "      <td>0.629645</td>\n",
       "      <td>1.199808</td>\n",
       "      <td>0.600917</td>\n",
       "      <td>-0.806892</td>\n",
       "      <td>-2.087005</td>\n",
       "      <td>-2.579933</td>\n",
       "    </tr>\n",
       "  </tbody>\n",
       "</table>\n",
       "<p>5 rows × 154 columns</p>\n",
       "</div>"
      ],
      "text/plain": [
       "   0         2         3         4         5         6         7         8    \\\n",
       "0  1.0  6.778645  5.554810  4.935933  5.639114  6.603463  6.309278  4.738829   \n",
       "1  1.0 -0.354725 -0.210143 -0.337065 -0.613978 -0.725109 -0.509282 -0.154146   \n",
       "2  1.0  1.727716  2.056163  1.876898  0.992565  0.224456  0.429907  1.229387   \n",
       "3  1.0  1.064721  1.299112  0.705400  0.422355  1.269587  2.672225  3.240471   \n",
       "4  1.0 -0.010284 -0.097968 -0.345274 -0.216691  0.351261  0.781839  0.695825   \n",
       "\n",
       "        9         10   ...       145       146       147       148       149  \\\n",
       "0  3.110043  2.167682  ...  0.129900 -0.609716 -0.822197 -0.109120  0.899585   \n",
       "1  0.062651  0.102172  ... -0.468649 -0.052648  0.544180  0.781654  0.833143   \n",
       "2  1.403841  0.507216  ... -0.365350 -0.827163  0.208835  1.473647  1.545710   \n",
       "3  2.234018  0.275905  ...  0.026794 -0.726883 -0.768780 -0.600054 -0.948638   \n",
       "4  0.298840 -0.198690  ...  1.946469  0.730151 -0.396311 -0.324040  0.629645   \n",
       "\n",
       "        150       151       152       153       154  \n",
       "0  1.374105  1.187913  0.742605  0.347446  0.131211  \n",
       "1  1.253793  1.914558  2.013101  1.287430  0.521264  \n",
       "2  0.672175  0.097850  0.288585  0.679454  0.822155  \n",
       "3 -1.688718 -1.858080 -0.862087  0.660512  1.426284  \n",
       "4  1.199808  0.600917 -0.806892 -2.087005 -2.579933  \n",
       "\n",
       "[5 rows x 154 columns]"
      ]
     },
     "execution_count": 2,
     "metadata": {},
     "output_type": "execute_result"
    }
   ],
   "source": [
    "df.head()"
   ]
  },
  {
   "cell_type": "code",
   "execution_count": 3,
   "metadata": {},
   "outputs": [],
   "source": [
    "X = df.drop(columns = 0)\n",
    "y = df.loc[:,0] - 1 # For simplicity in future model training\n",
    "y = y.replace({0: 1, 1: 0})"
   ]
  },
  {
   "cell_type": "markdown",
   "metadata": {},
   "source": [
    "### 1. Determinar si el conjunto de datos es desbalanceado"
   ]
  },
  {
   "cell_type": "code",
   "execution_count": 4,
   "metadata": {},
   "outputs": [
    {
     "data": {
      "text/plain": [
       "(1689, 281)"
      ]
     },
     "execution_count": 4,
     "metadata": {},
     "output_type": "execute_result"
    }
   ],
   "source": [
    "notP300_count = len(y[y == 0])\n",
    "P300_count = len(y[y == 1])\n",
    "(notP300_count, P300_count)"
   ]
  },
  {
   "cell_type": "code",
   "execution_count": 5,
   "metadata": {},
   "outputs": [
    {
     "data": {
      "text/plain": [
       "(0.8573604060913705, 0.14263959390862943)"
      ]
     },
     "execution_count": 5,
     "metadata": {},
     "output_type": "execute_result"
    }
   ],
   "source": [
    "prior_0 = len(y[y == 0]) / len(y)\n",
    "prior_1 = len(y[y == 1]) / len(y)\n",
    "(prior_0, prior_1)"
   ]
  },
  {
   "cell_type": "markdown",
   "metadata": {},
   "source": [
    "#### En efecto, el conjunto de datos está desbalanceado. Más del 85% de las muestras están estiquitadas como no P300, y menos del 15% está etiquetada como P300."
   ]
  },
  {
   "cell_type": "code",
   "execution_count": 8,
   "metadata": {},
   "outputs": [],
   "source": [
    "# Eight Classifiers\n",
    "from sklearn.svm import SVC # Linear and RBF\n",
    "from sklearn.ensemble import RandomForestClassifier\n",
    "from sklearn.naive_bayes import GaussianNB\n",
    "from sklearn.tree import DecisionTreeClassifier\n",
    "from sklearn.neighbors import KNeighborsClassifier\n",
    "from sklearn.discriminant_analysis import LinearDiscriminantAnalysis\n",
    "from xgboost import XGBClassifier\n",
    "\n",
    "# Cross-validation and metrics\n",
    "from sklearn.model_selection import StratifiedKFold\n",
    "from sklearn.metrics import classification_report, f1_score\n",
    "from sklearn.model_selection import train_test_split\n",
    "import random"
   ]
  },
  {
   "cell_type": "markdown",
   "metadata": {},
   "source": [
    "### 2. Evalúa al menos 8 modelos de clasificación distintos utilizando validación cruzada, y determina cuál de ellos es el más efectivo."
   ]
  },
  {
   "cell_type": "code",
   "execution_count": 9,
   "metadata": {},
   "outputs": [],
   "source": [
    "# Función para evaluar un modelo con validación cruzada, y manejo de desbalanceo con subsampling y función de pérdida ponderada (en caso de estar incluida en sklearn)\n",
    "\n",
    "def evaluate_model(X, y, classifier, balance_param_name=None, balance_param_value=None):\n",
    "    \"\"\"\n",
    "    Función para evaluar modelos utilizando validación cruzada, aplicando subsampling \n",
    "    y, si es aplicable, incluir un parámetro personalizado para manejar desbalanceo de datos.\n",
    "\n",
    "    Parámetros:\n",
    "    X (pd.DataFrame): Características\n",
    "    y (pd.Series): Etiquetas\n",
    "    classifier: Modelo clasificador a evaluar\n",
    "    balance_param_name (str): Nombre del parámetro para manejar desbalanceo (ej: 'class_weight')\n",
    "    balance_param_value (any): Valor del parámetro de desbalanceo (ej: 'balanced')\n",
    "\n",
    "    Retorna:\n",
    "    None: Imprime el reporte de clasificación de la validación cruzada.\n",
    "    \"\"\"\n",
    "\n",
    "    # Validación cruzada\n",
    "    kf = StratifiedKFold(n_splits=5, shuffle=True)\n",
    "    \n",
    "    cv_y_test = []\n",
    "    cv_y_pred = []\n",
    "\n",
    "    # Aplicamos subsampling en cada pliegue\n",
    "    for train_index, test_index in kf.split(X, y):\n",
    "        X_train = X.iloc[train_index]\n",
    "        y_train = y.iloc[train_index]\n",
    "\n",
    "        # Subsampling: balancear las clases haciendo muestreo aleatorio de la clase mayoritaria\n",
    "        X1 = X_train[y_train == 0]  # Datos de la clase 1\n",
    "        y1 = y_train[y_train == 0]\n",
    "        n1 = len(y1)\n",
    "\n",
    "        X2 = X_train[y_train == 1]  # Datos de la clase 2\n",
    "        y2 = y_train[y_train == 1]\n",
    "        n2 = len(y2)\n",
    "\n",
    "        \n",
    "\n",
    "        # Muestreo aleatorio de la clase mayoritaria\n",
    "        ind = random.choices(list(X2.index), k=n1)  # Igualar el número de muestras\n",
    "        X_sub = pd.concat([X1, X2.loc[ind]])\n",
    "        y_sub = pd.concat([y1, y2.loc[ind]])\n",
    "\n",
    "        # Entrenar el modelo con subsampling\n",
    "        classifier.fit(X_sub, y_sub)\n",
    "\n",
    "        # Fase de prueba\n",
    "        X_test = X.iloc[test_index]\n",
    "        y_test = y.iloc[test_index]\n",
    "        y_pred = classifier.predict(X_test)\n",
    "\n",
    "        # Guardar predicciones y etiquetas reales\n",
    "        cv_y_test.append(y_test)\n",
    "        cv_y_pred.append(pd.Series(y_pred, index=y_test.index))\n",
    "\n",
    "    # Concatenar predicciones y etiquetas\n",
    "    y_test_concat = pd.concat(cv_y_test)\n",
    "    y_pred_concat = pd.concat(cv_y_pred)\n",
    "\n",
    "    # Imprimir reporte de clasificación con subsampling\n",
    "    print(f\"--- Reporte de clasificación con subsampling ---\")\n",
    "    print(classification_report(y_test_concat, y_pred_concat))\n",
    "\n",
    "    # Evaluación adicional con un parámetro de balanceo (si se ha proporcionado)\n",
    "    if balance_param_name and balance_param_value:\n",
    "        # Crear una copia del clasificador con el parámetro de balanceo aplicado\n",
    "        classifier_with_balance = classifier.set_params(**{balance_param_name: balance_param_value})\n",
    "\n",
    "        cv_y_test_balanced = []\n",
    "        cv_y_pred_balanced = []\n",
    "\n",
    "        for train_index, test_index in kf.split(X, y):\n",
    "            # Entrenamos el modelo con el parámetro de balanceo sin subsampling\n",
    "            X_train = X.iloc[train_index]\n",
    "            y_train = y.iloc[train_index]\n",
    "            classifier_with_balance.fit(X_train, y_train)\n",
    "\n",
    "            # Fase de prueba\n",
    "            X_test = X.iloc[test_index]\n",
    "            y_test = y.iloc[test_index]\n",
    "            y_pred_balanced = classifier_with_balance.predict(X_test)\n",
    "\n",
    "            # Guardar predicciones y etiquetas reales\n",
    "            cv_y_test_balanced.append(y_test)\n",
    "            cv_y_pred_balanced.append(pd.Series(y_pred_balanced, index=y_test.index))\n",
    "\n",
    "        # Concatenar predicciones y etiquetas\n",
    "        y_test_concat_balanced = pd.concat(cv_y_test_balanced)\n",
    "        y_pred_concat_balanced = pd.concat(cv_y_pred_balanced)\n",
    "\n",
    "        # Imprimir reporte de clasificación con el parámetro de balanceo\n",
    "        print(f\"--- Reporte de clasificación con {balance_param_name}={balance_param_value} ---\")\n",
    "        print(classification_report(y_test_concat_balanced, y_pred_concat_balanced))"
   ]
  },
  {
   "cell_type": "markdown",
   "metadata": {},
   "source": [
    "#### Modelo 1. K-Nearest-Neighbors"
   ]
  },
  {
   "cell_type": "code",
   "execution_count": 16,
   "metadata": {},
   "outputs": [
    {
     "name": "stdout",
     "output_type": "stream",
     "text": [
      "--- Reporte de clasificación con subsampling ---\n",
      "              precision    recall  f1-score   support\n",
      "\n",
      "         0.0       0.94      0.80      0.86      1689\n",
      "         1.0       0.36      0.67      0.47       281\n",
      "\n",
      "    accuracy                           0.78      1970\n",
      "   macro avg       0.65      0.74      0.67      1970\n",
      "weighted avg       0.85      0.78      0.81      1970\n",
      "\n"
     ]
    }
   ],
   "source": [
    "evaluate_model(X, y, KNeighborsClassifier(n_neighbors=5))"
   ]
  },
  {
   "cell_type": "markdown",
   "metadata": {},
   "source": [
    "#### Modelo 2. Linear Discriminant Analysis"
   ]
  },
  {
   "cell_type": "code",
   "execution_count": 17,
   "metadata": {},
   "outputs": [
    {
     "name": "stdout",
     "output_type": "stream",
     "text": [
      "--- Reporte de clasificación con subsampling ---\n",
      "              precision    recall  f1-score   support\n",
      "\n",
      "         0.0       0.96      0.87      0.91      1689\n",
      "         1.0       0.51      0.80      0.62       281\n",
      "\n",
      "    accuracy                           0.86      1970\n",
      "   macro avg       0.74      0.84      0.77      1970\n",
      "weighted avg       0.90      0.86      0.87      1970\n",
      "\n",
      "--- Reporte de clasificación con priors=[0.8573604060913705, 0.14263959390862943] ---\n",
      "              precision    recall  f1-score   support\n",
      "\n",
      "         0.0       0.94      0.96      0.95      1689\n",
      "         1.0       0.74      0.61      0.67       281\n",
      "\n",
      "    accuracy                           0.91      1970\n",
      "   macro avg       0.84      0.79      0.81      1970\n",
      "weighted avg       0.91      0.91      0.91      1970\n",
      "\n"
     ]
    }
   ],
   "source": [
    "evaluate_model(X, y, LinearDiscriminantAnalysis(), balance_param_name='priors', balance_param_value=[prior_0, prior_1])"
   ]
  },
  {
   "cell_type": "markdown",
   "metadata": {},
   "source": [
    "#### Modelo 3. Gaussian Naive-Bayes"
   ]
  },
  {
   "cell_type": "code",
   "execution_count": 18,
   "metadata": {},
   "outputs": [
    {
     "name": "stdout",
     "output_type": "stream",
     "text": [
      "--- Reporte de clasificación con subsampling ---\n",
      "              precision    recall  f1-score   support\n",
      "\n",
      "         0.0       0.89      0.91      0.90      1689\n",
      "         1.0       0.39      0.35      0.37       281\n",
      "\n",
      "    accuracy                           0.83      1970\n",
      "   macro avg       0.64      0.63      0.64      1970\n",
      "weighted avg       0.82      0.83      0.83      1970\n",
      "\n",
      "--- Reporte de clasificación con priors=[0.8573604060913705, 0.14263959390862943] ---\n",
      "              precision    recall  f1-score   support\n",
      "\n",
      "         0.0       0.89      0.95      0.92      1689\n",
      "         1.0       0.48      0.30      0.37       281\n",
      "\n",
      "    accuracy                           0.85      1970\n",
      "   macro avg       0.69      0.62      0.64      1970\n",
      "weighted avg       0.83      0.85      0.84      1970\n",
      "\n"
     ]
    }
   ],
   "source": [
    "evaluate_model(X, y, GaussianNB(), balance_param_name='priors', balance_param_value=[prior_0, prior_1])"
   ]
  },
  {
   "cell_type": "markdown",
   "metadata": {},
   "source": [
    "#### Modelo 4. Linear Support Vector Classifier"
   ]
  },
  {
   "cell_type": "code",
   "execution_count": 19,
   "metadata": {},
   "outputs": [
    {
     "name": "stdout",
     "output_type": "stream",
     "text": [
      "--- Reporte de clasificación con subsampling ---\n",
      "              precision    recall  f1-score   support\n",
      "\n",
      "         0.0       0.97      0.89      0.93      1689\n",
      "         1.0       0.56      0.83      0.67       281\n",
      "\n",
      "    accuracy                           0.88      1970\n",
      "   macro avg       0.77      0.86      0.80      1970\n",
      "weighted avg       0.91      0.88      0.89      1970\n",
      "\n",
      "--- Reporte de clasificación con class_weight=balanced ---\n",
      "              precision    recall  f1-score   support\n",
      "\n",
      "         0.0       0.97      0.88      0.92      1689\n",
      "         1.0       0.53      0.82      0.64       281\n",
      "\n",
      "    accuracy                           0.87      1970\n",
      "   macro avg       0.75      0.85      0.78      1970\n",
      "weighted avg       0.90      0.87      0.88      1970\n",
      "\n"
     ]
    }
   ],
   "source": [
    "evaluate_model(X, y, SVC(kernel='linear'), balance_param_name='class_weight', balance_param_value='balanced')"
   ]
  },
  {
   "cell_type": "markdown",
   "metadata": {},
   "source": [
    "#### Modelo 5. Radial Support Vector Classifier"
   ]
  },
  {
   "cell_type": "code",
   "execution_count": 20,
   "metadata": {
    "scrolled": true
   },
   "outputs": [
    {
     "name": "stdout",
     "output_type": "stream",
     "text": [
      "--- Reporte de clasificación con subsampling ---\n",
      "              precision    recall  f1-score   support\n",
      "\n",
      "         0.0       0.96      0.94      0.95      1689\n",
      "         1.0       0.67      0.78      0.72       281\n",
      "\n",
      "    accuracy                           0.91      1970\n",
      "   macro avg       0.82      0.86      0.84      1970\n",
      "weighted avg       0.92      0.91      0.92      1970\n",
      "\n",
      "--- Reporte de clasificación con class_weight=balanced ---\n",
      "              precision    recall  f1-score   support\n",
      "\n",
      "         0.0       0.96      0.94      0.95      1689\n",
      "         1.0       0.68      0.77      0.72       281\n",
      "\n",
      "    accuracy                           0.91      1970\n",
      "   macro avg       0.82      0.86      0.84      1970\n",
      "weighted avg       0.92      0.91      0.92      1970\n",
      "\n"
     ]
    }
   ],
   "source": [
    "evaluate_model(X, y, SVC(kernel='rbf'), balance_param_name='class_weight', balance_param_value='balanced')"
   ]
  },
  {
   "cell_type": "markdown",
   "metadata": {},
   "source": [
    "#### Modelo 6. Desicion Tree"
   ]
  },
  {
   "cell_type": "code",
   "execution_count": 21,
   "metadata": {
    "scrolled": true
   },
   "outputs": [
    {
     "name": "stdout",
     "output_type": "stream",
     "text": [
      "--- Reporte de clasificación con subsampling ---\n",
      "              precision    recall  f1-score   support\n",
      "\n",
      "         0.0       0.92      0.91      0.91      1689\n",
      "         1.0       0.49      0.50      0.49       281\n",
      "\n",
      "    accuracy                           0.85      1970\n",
      "   macro avg       0.70      0.71      0.70      1970\n",
      "weighted avg       0.85      0.85      0.85      1970\n",
      "\n",
      "--- Reporte de clasificación con class_weight=balanced ---\n",
      "              precision    recall  f1-score   support\n",
      "\n",
      "         0.0       0.91      0.91      0.91      1689\n",
      "         1.0       0.46      0.46      0.46       281\n",
      "\n",
      "    accuracy                           0.84      1970\n",
      "   macro avg       0.68      0.68      0.68      1970\n",
      "weighted avg       0.84      0.84      0.84      1970\n",
      "\n"
     ]
    }
   ],
   "source": [
    "evaluate_model(X, y, DecisionTreeClassifier(), balance_param_name='class_weight', balance_param_value='balanced')"
   ]
  },
  {
   "cell_type": "markdown",
   "metadata": {},
   "source": [
    "#### Modelo 7. Random Forest"
   ]
  },
  {
   "cell_type": "code",
   "execution_count": 22,
   "metadata": {
    "scrolled": true
   },
   "outputs": [
    {
     "name": "stdout",
     "output_type": "stream",
     "text": [
      "--- Reporte de clasificación con subsampling ---\n",
      "              precision    recall  f1-score   support\n",
      "\n",
      "         0.0       0.91      0.99      0.95      1689\n",
      "         1.0       0.88      0.38      0.53       281\n",
      "\n",
      "    accuracy                           0.90      1970\n",
      "   macro avg       0.90      0.69      0.74      1970\n",
      "weighted avg       0.90      0.90      0.89      1970\n",
      "\n",
      "--- Reporte de clasificación con class_weight=balanced ---\n",
      "              precision    recall  f1-score   support\n",
      "\n",
      "         0.0       0.88      1.00      0.94      1689\n",
      "         1.0       0.91      0.19      0.31       281\n",
      "\n",
      "    accuracy                           0.88      1970\n",
      "   macro avg       0.90      0.59      0.62      1970\n",
      "weighted avg       0.89      0.88      0.85      1970\n",
      "\n"
     ]
    }
   ],
   "source": [
    "evaluate_model(X, y, RandomForestClassifier(), balance_param_name='class_weight', balance_param_value='balanced')"
   ]
  },
  {
   "cell_type": "markdown",
   "metadata": {},
   "source": [
    "#### Modelo 8. XGBoost"
   ]
  },
  {
   "cell_type": "code",
   "execution_count": 23,
   "metadata": {
    "scrolled": true
   },
   "outputs": [
    {
     "name": "stdout",
     "output_type": "stream",
     "text": [
      "--- Reporte de clasificación con subsampling ---\n",
      "              precision    recall  f1-score   support\n",
      "\n",
      "         0.0       0.94      0.96      0.95      1689\n",
      "         1.0       0.73      0.63      0.68       281\n",
      "\n",
      "    accuracy                           0.91      1970\n",
      "   macro avg       0.84      0.80      0.81      1970\n",
      "weighted avg       0.91      0.91      0.91      1970\n",
      "\n",
      "--- Reporte de clasificación con scale_pos_weight=6.01067615658363 ---\n",
      "              precision    recall  f1-score   support\n",
      "\n",
      "         0.0       0.94      0.96      0.95      1689\n",
      "         1.0       0.73      0.62      0.67       281\n",
      "\n",
      "    accuracy                           0.91      1970\n",
      "   macro avg       0.83      0.79      0.81      1970\n",
      "weighted avg       0.91      0.91      0.91      1970\n",
      "\n"
     ]
    }
   ],
   "source": [
    "evaluate_model(X, y, XGBClassifier(), balance_param_name='scale_pos_weight', balance_param_value=len(y[y == 0])/len(y[y == 1]))"
   ]
  },
  {
   "cell_type": "markdown",
   "metadata": {},
   "source": [
    "### 3. Logistic Regression from Scratch"
   ]
  },
  {
   "cell_type": "code",
   "execution_count": 24,
   "metadata": {},
   "outputs": [],
   "source": [
    "# Sigmoid Function\n",
    "def sigmoid(x):\n",
    "    return 1 / (1 + np.exp(-x))\n",
    "\n",
    "class LogisticRegression:\n",
    "    \n",
    "    def __init__(self, lr=0.001, n_iters=1000):\n",
    "        self.lr = lr #Learning rate\n",
    "        self.n_iters = n_iters #Number of epochs\n",
    "        self.weights = None # Weights\n",
    "        self.bias = None # Bias\n",
    "        \n",
    "    def fit(self, X, y):\n",
    "        # Define key variables\n",
    "        n_samples, n_features = X.shape\n",
    "        \n",
    "        #Initialize weights and bias with zeros\n",
    "        self.weights = np.zeros(n_features)\n",
    "        self.bias = 0\n",
    "        \n",
    "        # Train the model for n_iters times\n",
    "        for _ in range(self.n_iters):\n",
    "            # Get predictions\n",
    "            linear_pred = np.dot(X, self.weights) + self.bias # y = mx + b\n",
    "            predictions = sigmoid(linear_pred) # fit our linear predictions into the sigmoid function\n",
    "            \n",
    "            # Calculate the Gradients\n",
    "            dw = (1 / n_samples) * np.dot(X.T, (predictions - y))\n",
    "            db = (1 / n_samples) * np.sum(predictions - y)\n",
    "    \n",
    "            # Compute new weights and biases\n",
    "            self.weights -= self.lr * dw\n",
    "            self.bias -= self.lr * db\n",
    "\n",
    "    def predict(self, X):\n",
    "        linear_pred = np.dot(X, self.weights) + self.bias # y = mx + b\n",
    "        y_pred = sigmoid(linear_pred) # fit our linear predictions into the sigmoid functio\n",
    "        class_pred = [0 if y <= 0.5 else 1 for y in y_pred] # assign a class to our predictions\n",
    "        return np.array(class_pred)"
   ]
  },
  {
   "cell_type": "code",
   "execution_count": 25,
   "metadata": {},
   "outputs": [
    {
     "name": "stdout",
     "output_type": "stream",
     "text": [
      "--- Reporte de clasificación con subsampling ---\n",
      "              precision    recall  f1-score   support\n",
      "\n",
      "         0.0       0.99      0.67      0.80      1689\n",
      "         1.0       0.32      0.94      0.48       281\n",
      "\n",
      "    accuracy                           0.71      1970\n",
      "   macro avg       0.65      0.81      0.64      1970\n",
      "weighted avg       0.89      0.71      0.75      1970\n",
      "\n"
     ]
    }
   ],
   "source": [
    "evaluate_model(X, y, LogisticRegression())"
   ]
  },
  {
   "cell_type": "markdown",
   "metadata": {},
   "source": [
    "### 4. Con alguno de los clasificadores que probaste en los pasos anteriores, determina el número óptimo de características utilizando un método tipo Filter."
   ]
  },
  {
   "cell_type": "markdown",
   "metadata": {},
   "source": [
    "#### Modelo seleccionado: Radial Support Vector Classifier con weight loss function"
   ]
  },
  {
   "cell_type": "markdown",
   "metadata": {},
   "source": [
    "Se optó por este modelo ya que tiene un buen recall para la clase no dominante (0.79), lo cual quiere decir que detectó casi el 80% de las señales P300. Además tiene el f1-score para la clase no dominante (0.72) más alto entre todos los modelos evaluados, lo cual indica tuvo la mejor proporción entre recall y precision para la clase no dominante. Finalmente, tuvo un accuracy de 0.91.\n",
    "\n",
    "Sin embargo, este modelo no es recomendado para algunos de los métodos de selección de características, de hecho solo se recomienda usar filter ya que no requiere entrenamiento de modelo previo a seleccionar las características. Por lo tanto, para los otros métodos se utilizarán otros modelos que después de Radial SVC, fueron los mejores según los criterios anteriores. Para secuencial se utilizará análsis discriminante lineal, y para RFE Linear SVC."
   ]
  },
  {
   "cell_type": "markdown",
   "metadata": {},
   "source": [
    "##### Feature Selection: Filter method"
   ]
  },
  {
   "cell_type": "code",
   "execution_count": 10,
   "metadata": {},
   "outputs": [
    {
     "name": "stdout",
     "output_type": "stream",
     "text": [
      "Optimal number of features:  125\n",
      "F1-Score (class 1) with optimal number of features:  0.7469118396095447\n"
     ]
    },
    {
     "data": {
      "image/png": "[encoded data removed]",
      "text/plain": [
       "<Figure size 640x480 with 1 Axes>"
      ]
     },
     "metadata": {},
     "output_type": "display_data"
    }
   ],
   "source": [
    "from sklearn.feature_selection import SelectKBest\n",
    "from sklearn.feature_selection import f_classif\n",
    "import matplotlib.pyplot as plt\n",
    "\n",
    "n_feats = range(1, len(X.columns)+1)\n",
    "f1_nfeat = []\n",
    "\n",
    "kf = StratifiedKFold(n_splits=5, shuffle=True)\n",
    "\n",
    "for n_feat in n_feats:\n",
    "    \n",
    "    f1_cv = []\n",
    "\n",
    "    for train_index, test_index in kf.split(X, y):\n",
    "        # Training phase\n",
    "        X_train = X.iloc[train_index, :]\n",
    "        y_train = y.iloc[train_index]\n",
    "\n",
    "        # Define classifier with Radial kernel\n",
    "        clf_cv = SVC(kernel='rbf', class_weight = 'balanced')\n",
    "\n",
    "        # Feature selection with SelectKBest\n",
    "        fselection_cv = SelectKBest(f_classif, k=n_feat)\n",
    "        fselection_cv.fit(X_train, y_train)\n",
    "        X_train_selected = fselection_cv.transform(X_train)\n",
    "\n",
    "        # Train classifier\n",
    "        clf_cv.fit(X_train_selected, y_train)\n",
    "\n",
    "        # Test phase\n",
    "        X_test_selected = fselection_cv.transform(X.iloc[test_index, :])\n",
    "        y_test = y.iloc[test_index]\n",
    "        y_pred = clf_cv.predict(X_test_selected)\n",
    "\n",
    "        # Calculate f1-score for class 1\n",
    "        f1_i = f1_score(y_test, y_pred, pos_label=1)\n",
    "        f1_cv.append(f1_i)\n",
    "\n",
    "    # Average f1-score for this number of features\n",
    "    f1_avg = np.average(f1_cv)\n",
    "    f1_nfeat.append(f1_avg)\n",
    "\n",
    "# Find optimal number of features\n",
    "opt_index = np.argmax(f1_nfeat)\n",
    "opt_features = n_feats[opt_index]\n",
    "opt_f1_score = f1_nfeat[opt_index]\n",
    "print(\"Optimal number of features: \", opt_features)\n",
    "print(\"F1-Score (class 1) with optimal number of features: \", opt_f1_score)\n",
    "\n",
    "# Plot f1-score vs number of features\n",
    "plt.plot(n_feats, f1_nfeat)\n",
    "plt.xlabel(\"Number of features\")\n",
    "plt.ylabel(\"F1-Score (class 1)\")\n",
    "plt.title(\"F1-Score vs Number of Features (SelectKBest + Radial SVC)\")\n",
    "plt.show()"
   ]
  },
  {
   "cell_type": "markdown",
   "metadata": {},
   "source": [
    "#### 5. Repite el paso anterior, pero para un método de selección de características secuencial."
   ]
  },
  {
   "cell_type": "markdown",
   "metadata": {},
   "source": [
    "##### Feature Selection: Sequential method"
   ]
  },
  {
   "cell_type": "code",
   "execution_count": 29,
   "metadata": {},
   "outputs": [],
   "source": [
    "from sklearn.feature_selection import SequentialFeatureSelector"
   ]
  },
  {
   "cell_type": "code",
   "execution_count": 30,
   "metadata": {
    "scrolled": true
   },
   "outputs": [
    {
     "ename": "KeyboardInterrupt",
     "evalue": "",
     "output_type": "error",
     "traceback": [
      "\u001b[1;31m---------------------------------------------------------------------------\u001b[0m",
      "\u001b[1;31mKeyboardInterrupt\u001b[0m                         Traceback (most recent call last)",
      "Cell \u001b[1;32mIn[30], line 21\u001b[0m\n\u001b[0;32m     19\u001b[0m \u001b[38;5;66;03m# Sequential Feature Selector\u001b[39;00m\n\u001b[0;32m     20\u001b[0m fselection_cv \u001b[38;5;241m=\u001b[39m SequentialFeatureSelector(clf_cv, n_features_to_select\u001b[38;5;241m=\u001b[39mn_feat, direction\u001b[38;5;241m=\u001b[39m\u001b[38;5;124m'\u001b[39m\u001b[38;5;124mforward\u001b[39m\u001b[38;5;124m'\u001b[39m, cv\u001b[38;5;241m=\u001b[39m\u001b[38;5;241m3\u001b[39m)\n\u001b[1;32m---> 21\u001b[0m \u001b[43mfselection_cv\u001b[49m\u001b[38;5;241;43m.\u001b[39;49m\u001b[43mfit\u001b[49m\u001b[43m(\u001b[49m\u001b[43mX_train\u001b[49m\u001b[43m,\u001b[49m\u001b[43m \u001b[49m\u001b[43my_train\u001b[49m\u001b[43m)\u001b[49m\n\u001b[0;32m     22\u001b[0m X_train_selected \u001b[38;5;241m=\u001b[39m fselection_cv\u001b[38;5;241m.\u001b[39mtransform(X_train)\n\u001b[0;32m     24\u001b[0m \u001b[38;5;66;03m# Train classifier\u001b[39;00m\n",
      "File \u001b[1;32mc:\\Users\\Aviance\\AppData\\Local\\Programs\\Python\\Python311\\Lib\\site-packages\\sklearn\\base.py:1474\u001b[0m, in \u001b[0;36m_fit_context.<locals>.decorator.<locals>.wrapper\u001b[1;34m(estimator, *args, **kwargs)\u001b[0m\n\u001b[0;32m   1467\u001b[0m     estimator\u001b[38;5;241m.\u001b[39m_validate_params()\n\u001b[0;32m   1469\u001b[0m \u001b[38;5;28;01mwith\u001b[39;00m config_context(\n\u001b[0;32m   1470\u001b[0m     skip_parameter_validation\u001b[38;5;241m=\u001b[39m(\n\u001b[0;32m   1471\u001b[0m         prefer_skip_nested_validation \u001b[38;5;129;01mor\u001b[39;00m global_skip_validation\n\u001b[0;32m   1472\u001b[0m     )\n\u001b[0;32m   1473\u001b[0m ):\n\u001b[1;32m-> 1474\u001b[0m     \u001b[38;5;28;01mreturn\u001b[39;00m \u001b[43mfit_method\u001b[49m\u001b[43m(\u001b[49m\u001b[43mestimator\u001b[49m\u001b[43m,\u001b[49m\u001b[43m \u001b[49m\u001b[38;5;241;43m*\u001b[39;49m\u001b[43margs\u001b[49m\u001b[43m,\u001b[49m\u001b[43m \u001b[49m\u001b[38;5;241;43m*\u001b[39;49m\u001b[38;5;241;43m*\u001b[39;49m\u001b[43mkwargs\u001b[49m\u001b[43m)\u001b[49m\n",
      "File \u001b[1;32mc:\\Users\\Aviance\\AppData\\Local\\Programs\\Python\\Python311\\Lib\\site-packages\\sklearn\\feature_selection\\_sequential.py:251\u001b[0m, in \u001b[0;36mSequentialFeatureSelector.fit\u001b[1;34m(self, X, y)\u001b[0m\n\u001b[0;32m    249\u001b[0m is_auto_select \u001b[38;5;241m=\u001b[39m \u001b[38;5;28mself\u001b[39m\u001b[38;5;241m.\u001b[39mtol \u001b[38;5;129;01mis\u001b[39;00m \u001b[38;5;129;01mnot\u001b[39;00m \u001b[38;5;28;01mNone\u001b[39;00m \u001b[38;5;129;01mand\u001b[39;00m \u001b[38;5;28mself\u001b[39m\u001b[38;5;241m.\u001b[39mn_features_to_select \u001b[38;5;241m==\u001b[39m \u001b[38;5;124m\"\u001b[39m\u001b[38;5;124mauto\u001b[39m\u001b[38;5;124m\"\u001b[39m\n\u001b[0;32m    250\u001b[0m \u001b[38;5;28;01mfor\u001b[39;00m _ \u001b[38;5;129;01min\u001b[39;00m \u001b[38;5;28mrange\u001b[39m(n_iterations):\n\u001b[1;32m--> 251\u001b[0m     new_feature_idx, new_score \u001b[38;5;241m=\u001b[39m \u001b[38;5;28;43mself\u001b[39;49m\u001b[38;5;241;43m.\u001b[39;49m\u001b[43m_get_best_new_feature_score\u001b[49m\u001b[43m(\u001b[49m\n\u001b[0;32m    252\u001b[0m \u001b[43m        \u001b[49m\u001b[43mcloned_estimator\u001b[49m\u001b[43m,\u001b[49m\u001b[43m \u001b[49m\u001b[43mX\u001b[49m\u001b[43m,\u001b[49m\u001b[43m \u001b[49m\u001b[43my\u001b[49m\u001b[43m,\u001b[49m\u001b[43m \u001b[49m\u001b[43mcv\u001b[49m\u001b[43m,\u001b[49m\u001b[43m \u001b[49m\u001b[43mcurrent_mask\u001b[49m\n\u001b[0;32m    253\u001b[0m \u001b[43m    \u001b[49m\u001b[43m)\u001b[49m\n\u001b[0;32m    254\u001b[0m     \u001b[38;5;28;01mif\u001b[39;00m is_auto_select \u001b[38;5;129;01mand\u001b[39;00m ((new_score \u001b[38;5;241m-\u001b[39m old_score) \u001b[38;5;241m<\u001b[39m \u001b[38;5;28mself\u001b[39m\u001b[38;5;241m.\u001b[39mtol):\n\u001b[0;32m    255\u001b[0m         \u001b[38;5;28;01mbreak\u001b[39;00m\n",
      "File \u001b[1;32mc:\\Users\\Aviance\\AppData\\Local\\Programs\\Python\\Python311\\Lib\\site-packages\\sklearn\\feature_selection\\_sequential.py:282\u001b[0m, in \u001b[0;36mSequentialFeatureSelector._get_best_new_feature_score\u001b[1;34m(self, estimator, X, y, cv, current_mask)\u001b[0m\n\u001b[0;32m    280\u001b[0m         candidate_mask \u001b[38;5;241m=\u001b[39m \u001b[38;5;241m~\u001b[39mcandidate_mask\n\u001b[0;32m    281\u001b[0m     X_new \u001b[38;5;241m=\u001b[39m X[:, candidate_mask]\n\u001b[1;32m--> 282\u001b[0m     scores[feature_idx] \u001b[38;5;241m=\u001b[39m \u001b[43mcross_val_score\u001b[49m\u001b[43m(\u001b[49m\n\u001b[0;32m    283\u001b[0m \u001b[43m        \u001b[49m\u001b[43mestimator\u001b[49m\u001b[43m,\u001b[49m\n\u001b[0;32m    284\u001b[0m \u001b[43m        \u001b[49m\u001b[43mX_new\u001b[49m\u001b[43m,\u001b[49m\n\u001b[0;32m    285\u001b[0m \u001b[43m        \u001b[49m\u001b[43my\u001b[49m\u001b[43m,\u001b[49m\n\u001b[0;32m    286\u001b[0m \u001b[43m        \u001b[49m\u001b[43mcv\u001b[49m\u001b[38;5;241;43m=\u001b[39;49m\u001b[43mcv\u001b[49m\u001b[43m,\u001b[49m\n\u001b[0;32m    287\u001b[0m \u001b[43m        \u001b[49m\u001b[43mscoring\u001b[49m\u001b[38;5;241;43m=\u001b[39;49m\u001b[38;5;28;43mself\u001b[39;49m\u001b[38;5;241;43m.\u001b[39;49m\u001b[43mscoring\u001b[49m\u001b[43m,\u001b[49m\n\u001b[0;32m    288\u001b[0m \u001b[43m        \u001b[49m\u001b[43mn_jobs\u001b[49m\u001b[38;5;241;43m=\u001b[39;49m\u001b[38;5;28;43mself\u001b[39;49m\u001b[38;5;241;43m.\u001b[39;49m\u001b[43mn_jobs\u001b[49m\u001b[43m,\u001b[49m\n\u001b[0;32m    289\u001b[0m \u001b[43m    \u001b[49m\u001b[43m)\u001b[49m\u001b[38;5;241m.\u001b[39mmean()\n\u001b[0;32m    290\u001b[0m new_feature_idx \u001b[38;5;241m=\u001b[39m \u001b[38;5;28mmax\u001b[39m(scores, key\u001b[38;5;241m=\u001b[39m\u001b[38;5;28;01mlambda\u001b[39;00m feature_idx: scores[feature_idx])\n\u001b[0;32m    291\u001b[0m \u001b[38;5;28;01mreturn\u001b[39;00m new_feature_idx, scores[new_feature_idx]\n",
      "File \u001b[1;32mc:\\Users\\Aviance\\AppData\\Local\\Programs\\Python\\Python311\\Lib\\site-packages\\sklearn\\utils\\_param_validation.py:213\u001b[0m, in \u001b[0;36mvalidate_params.<locals>.decorator.<locals>.wrapper\u001b[1;34m(*args, **kwargs)\u001b[0m\n\u001b[0;32m    207\u001b[0m \u001b[38;5;28;01mtry\u001b[39;00m:\n\u001b[0;32m    208\u001b[0m     \u001b[38;5;28;01mwith\u001b[39;00m config_context(\n\u001b[0;32m    209\u001b[0m         skip_parameter_validation\u001b[38;5;241m=\u001b[39m(\n\u001b[0;32m    210\u001b[0m             prefer_skip_nested_validation \u001b[38;5;129;01mor\u001b[39;00m global_skip_validation\n\u001b[0;32m    211\u001b[0m         )\n\u001b[0;32m    212\u001b[0m     ):\n\u001b[1;32m--> 213\u001b[0m         \u001b[38;5;28;01mreturn\u001b[39;00m \u001b[43mfunc\u001b[49m\u001b[43m(\u001b[49m\u001b[38;5;241;43m*\u001b[39;49m\u001b[43margs\u001b[49m\u001b[43m,\u001b[49m\u001b[43m \u001b[49m\u001b[38;5;241;43m*\u001b[39;49m\u001b[38;5;241;43m*\u001b[39;49m\u001b[43mkwargs\u001b[49m\u001b[43m)\u001b[49m\n\u001b[0;32m    214\u001b[0m \u001b[38;5;28;01mexcept\u001b[39;00m InvalidParameterError \u001b[38;5;28;01mas\u001b[39;00m e:\n\u001b[0;32m    215\u001b[0m     \u001b[38;5;66;03m# When the function is just a wrapper around an estimator, we allow\u001b[39;00m\n\u001b[0;32m    216\u001b[0m     \u001b[38;5;66;03m# the function to delegate validation to the estimator, but we replace\u001b[39;00m\n\u001b[0;32m    217\u001b[0m     \u001b[38;5;66;03m# the name of the estimator by the name of the function in the error\u001b[39;00m\n\u001b[0;32m    218\u001b[0m     \u001b[38;5;66;03m# message to avoid confusion.\u001b[39;00m\n\u001b[0;32m    219\u001b[0m     msg \u001b[38;5;241m=\u001b[39m re\u001b[38;5;241m.\u001b[39msub(\n\u001b[0;32m    220\u001b[0m         \u001b[38;5;124mr\u001b[39m\u001b[38;5;124m\"\u001b[39m\u001b[38;5;124mparameter of \u001b[39m\u001b[38;5;124m\\\u001b[39m\u001b[38;5;124mw+ must be\u001b[39m\u001b[38;5;124m\"\u001b[39m,\n\u001b[0;32m    221\u001b[0m         \u001b[38;5;124mf\u001b[39m\u001b[38;5;124m\"\u001b[39m\u001b[38;5;124mparameter of \u001b[39m\u001b[38;5;132;01m{\u001b[39;00mfunc\u001b[38;5;241m.\u001b[39m\u001b[38;5;18m__qualname__\u001b[39m\u001b[38;5;132;01m}\u001b[39;00m\u001b[38;5;124m must be\u001b[39m\u001b[38;5;124m\"\u001b[39m,\n\u001b[0;32m    222\u001b[0m         \u001b[38;5;28mstr\u001b[39m(e),\n\u001b[0;32m    223\u001b[0m     )\n",
      "File \u001b[1;32mc:\\Users\\Aviance\\AppData\\Local\\Programs\\Python\\Python311\\Lib\\site-packages\\sklearn\\model_selection\\_validation.py:719\u001b[0m, in \u001b[0;36mcross_val_score\u001b[1;34m(estimator, X, y, groups, scoring, cv, n_jobs, verbose, fit_params, params, pre_dispatch, error_score)\u001b[0m\n\u001b[0;32m    716\u001b[0m \u001b[38;5;66;03m# To ensure multimetric format is not supported\u001b[39;00m\n\u001b[0;32m    717\u001b[0m scorer \u001b[38;5;241m=\u001b[39m check_scoring(estimator, scoring\u001b[38;5;241m=\u001b[39mscoring)\n\u001b[1;32m--> 719\u001b[0m cv_results \u001b[38;5;241m=\u001b[39m \u001b[43mcross_validate\u001b[49m\u001b[43m(\u001b[49m\n\u001b[0;32m    720\u001b[0m \u001b[43m    \u001b[49m\u001b[43mestimator\u001b[49m\u001b[38;5;241;43m=\u001b[39;49m\u001b[43mestimator\u001b[49m\u001b[43m,\u001b[49m\n\u001b[0;32m    721\u001b[0m \u001b[43m    \u001b[49m\u001b[43mX\u001b[49m\u001b[38;5;241;43m=\u001b[39;49m\u001b[43mX\u001b[49m\u001b[43m,\u001b[49m\n\u001b[0;32m    722\u001b[0m \u001b[43m    \u001b[49m\u001b[43my\u001b[49m\u001b[38;5;241;43m=\u001b[39;49m\u001b[43my\u001b[49m\u001b[43m,\u001b[49m\n\u001b[0;32m    723\u001b[0m \u001b[43m    \u001b[49m\u001b[43mgroups\u001b[49m\u001b[38;5;241;43m=\u001b[39;49m\u001b[43mgroups\u001b[49m\u001b[43m,\u001b[49m\n\u001b[0;32m    724\u001b[0m \u001b[43m    \u001b[49m\u001b[43mscoring\u001b[49m\u001b[38;5;241;43m=\u001b[39;49m\u001b[43m{\u001b[49m\u001b[38;5;124;43m\"\u001b[39;49m\u001b[38;5;124;43mscore\u001b[39;49m\u001b[38;5;124;43m\"\u001b[39;49m\u001b[43m:\u001b[49m\u001b[43m \u001b[49m\u001b[43mscorer\u001b[49m\u001b[43m}\u001b[49m\u001b[43m,\u001b[49m\n\u001b[0;32m    725\u001b[0m \u001b[43m    \u001b[49m\u001b[43mcv\u001b[49m\u001b[38;5;241;43m=\u001b[39;49m\u001b[43mcv\u001b[49m\u001b[43m,\u001b[49m\n\u001b[0;32m    726\u001b[0m \u001b[43m    \u001b[49m\u001b[43mn_jobs\u001b[49m\u001b[38;5;241;43m=\u001b[39;49m\u001b[43mn_jobs\u001b[49m\u001b[43m,\u001b[49m\n\u001b[0;32m    727\u001b[0m \u001b[43m    \u001b[49m\u001b[43mverbose\u001b[49m\u001b[38;5;241;43m=\u001b[39;49m\u001b[43mverbose\u001b[49m\u001b[43m,\u001b[49m\n\u001b[0;32m    728\u001b[0m \u001b[43m    \u001b[49m\u001b[43mfit_params\u001b[49m\u001b[38;5;241;43m=\u001b[39;49m\u001b[43mfit_params\u001b[49m\u001b[43m,\u001b[49m\n\u001b[0;32m    729\u001b[0m \u001b[43m    \u001b[49m\u001b[43mparams\u001b[49m\u001b[38;5;241;43m=\u001b[39;49m\u001b[43mparams\u001b[49m\u001b[43m,\u001b[49m\n\u001b[0;32m    730\u001b[0m \u001b[43m    \u001b[49m\u001b[43mpre_dispatch\u001b[49m\u001b[38;5;241;43m=\u001b[39;49m\u001b[43mpre_dispatch\u001b[49m\u001b[43m,\u001b[49m\n\u001b[0;32m    731\u001b[0m \u001b[43m    \u001b[49m\u001b[43merror_score\u001b[49m\u001b[38;5;241;43m=\u001b[39;49m\u001b[43merror_score\u001b[49m\u001b[43m,\u001b[49m\n\u001b[0;32m    732\u001b[0m \u001b[43m\u001b[49m\u001b[43m)\u001b[49m\n\u001b[0;32m    733\u001b[0m \u001b[38;5;28;01mreturn\u001b[39;00m cv_results[\u001b[38;5;124m\"\u001b[39m\u001b[38;5;124mtest_score\u001b[39m\u001b[38;5;124m\"\u001b[39m]\n",
      "File \u001b[1;32mc:\\Users\\Aviance\\AppData\\Local\\Programs\\Python\\Python311\\Lib\\site-packages\\sklearn\\utils\\_param_validation.py:213\u001b[0m, in \u001b[0;36mvalidate_params.<locals>.decorator.<locals>.wrapper\u001b[1;34m(*args, **kwargs)\u001b[0m\n\u001b[0;32m    207\u001b[0m \u001b[38;5;28;01mtry\u001b[39;00m:\n\u001b[0;32m    208\u001b[0m     \u001b[38;5;28;01mwith\u001b[39;00m config_context(\n\u001b[0;32m    209\u001b[0m         skip_parameter_validation\u001b[38;5;241m=\u001b[39m(\n\u001b[0;32m    210\u001b[0m             prefer_skip_nested_validation \u001b[38;5;129;01mor\u001b[39;00m global_skip_validation\n\u001b[0;32m    211\u001b[0m         )\n\u001b[0;32m    212\u001b[0m     ):\n\u001b[1;32m--> 213\u001b[0m         \u001b[38;5;28;01mreturn\u001b[39;00m \u001b[43mfunc\u001b[49m\u001b[43m(\u001b[49m\u001b[38;5;241;43m*\u001b[39;49m\u001b[43margs\u001b[49m\u001b[43m,\u001b[49m\u001b[43m \u001b[49m\u001b[38;5;241;43m*\u001b[39;49m\u001b[38;5;241;43m*\u001b[39;49m\u001b[43mkwargs\u001b[49m\u001b[43m)\u001b[49m\n\u001b[0;32m    214\u001b[0m \u001b[38;5;28;01mexcept\u001b[39;00m InvalidParameterError \u001b[38;5;28;01mas\u001b[39;00m e:\n\u001b[0;32m    215\u001b[0m     \u001b[38;5;66;03m# When the function is just a wrapper around an estimator, we allow\u001b[39;00m\n\u001b[0;32m    216\u001b[0m     \u001b[38;5;66;03m# the function to delegate validation to the estimator, but we replace\u001b[39;00m\n\u001b[0;32m    217\u001b[0m     \u001b[38;5;66;03m# the name of the estimator by the name of the function in the error\u001b[39;00m\n\u001b[0;32m    218\u001b[0m     \u001b[38;5;66;03m# message to avoid confusion.\u001b[39;00m\n\u001b[0;32m    219\u001b[0m     msg \u001b[38;5;241m=\u001b[39m re\u001b[38;5;241m.\u001b[39msub(\n\u001b[0;32m    220\u001b[0m         \u001b[38;5;124mr\u001b[39m\u001b[38;5;124m\"\u001b[39m\u001b[38;5;124mparameter of \u001b[39m\u001b[38;5;124m\\\u001b[39m\u001b[38;5;124mw+ must be\u001b[39m\u001b[38;5;124m\"\u001b[39m,\n\u001b[0;32m    221\u001b[0m         \u001b[38;5;124mf\u001b[39m\u001b[38;5;124m\"\u001b[39m\u001b[38;5;124mparameter of \u001b[39m\u001b[38;5;132;01m{\u001b[39;00mfunc\u001b[38;5;241m.\u001b[39m\u001b[38;5;18m__qualname__\u001b[39m\u001b[38;5;132;01m}\u001b[39;00m\u001b[38;5;124m must be\u001b[39m\u001b[38;5;124m\"\u001b[39m,\n\u001b[0;32m    222\u001b[0m         \u001b[38;5;28mstr\u001b[39m(e),\n\u001b[0;32m    223\u001b[0m     )\n",
      "File \u001b[1;32mc:\\Users\\Aviance\\AppData\\Local\\Programs\\Python\\Python311\\Lib\\site-packages\\sklearn\\model_selection\\_validation.py:430\u001b[0m, in \u001b[0;36mcross_validate\u001b[1;34m(estimator, X, y, groups, scoring, cv, n_jobs, verbose, fit_params, params, pre_dispatch, return_train_score, return_estimator, return_indices, error_score)\u001b[0m\n\u001b[0;32m    427\u001b[0m \u001b[38;5;66;03m# We clone the estimator to make sure that all the folds are\u001b[39;00m\n\u001b[0;32m    428\u001b[0m \u001b[38;5;66;03m# independent, and that it is pickle-able.\u001b[39;00m\n\u001b[0;32m    429\u001b[0m parallel \u001b[38;5;241m=\u001b[39m Parallel(n_jobs\u001b[38;5;241m=\u001b[39mn_jobs, verbose\u001b[38;5;241m=\u001b[39mverbose, pre_dispatch\u001b[38;5;241m=\u001b[39mpre_dispatch)\n\u001b[1;32m--> 430\u001b[0m results \u001b[38;5;241m=\u001b[39m \u001b[43mparallel\u001b[49m\u001b[43m(\u001b[49m\n\u001b[0;32m    431\u001b[0m \u001b[43m    \u001b[49m\u001b[43mdelayed\u001b[49m\u001b[43m(\u001b[49m\u001b[43m_fit_and_score\u001b[49m\u001b[43m)\u001b[49m\u001b[43m(\u001b[49m\n\u001b[0;32m    432\u001b[0m \u001b[43m        \u001b[49m\u001b[43mclone\u001b[49m\u001b[43m(\u001b[49m\u001b[43mestimator\u001b[49m\u001b[43m)\u001b[49m\u001b[43m,\u001b[49m\n\u001b[0;32m    433\u001b[0m \u001b[43m        \u001b[49m\u001b[43mX\u001b[49m\u001b[43m,\u001b[49m\n\u001b[0;32m    434\u001b[0m \u001b[43m        \u001b[49m\u001b[43my\u001b[49m\u001b[43m,\u001b[49m\n\u001b[0;32m    435\u001b[0m \u001b[43m        \u001b[49m\u001b[43mscorer\u001b[49m\u001b[38;5;241;43m=\u001b[39;49m\u001b[43mscorers\u001b[49m\u001b[43m,\u001b[49m\n\u001b[0;32m    436\u001b[0m \u001b[43m        \u001b[49m\u001b[43mtrain\u001b[49m\u001b[38;5;241;43m=\u001b[39;49m\u001b[43mtrain\u001b[49m\u001b[43m,\u001b[49m\n\u001b[0;32m    437\u001b[0m \u001b[43m        \u001b[49m\u001b[43mtest\u001b[49m\u001b[38;5;241;43m=\u001b[39;49m\u001b[43mtest\u001b[49m\u001b[43m,\u001b[49m\n\u001b[0;32m    438\u001b[0m \u001b[43m        \u001b[49m\u001b[43mverbose\u001b[49m\u001b[38;5;241;43m=\u001b[39;49m\u001b[43mverbose\u001b[49m\u001b[43m,\u001b[49m\n\u001b[0;32m    439\u001b[0m \u001b[43m        \u001b[49m\u001b[43mparameters\u001b[49m\u001b[38;5;241;43m=\u001b[39;49m\u001b[38;5;28;43;01mNone\u001b[39;49;00m\u001b[43m,\u001b[49m\n\u001b[0;32m    440\u001b[0m \u001b[43m        \u001b[49m\u001b[43mfit_params\u001b[49m\u001b[38;5;241;43m=\u001b[39;49m\u001b[43mrouted_params\u001b[49m\u001b[38;5;241;43m.\u001b[39;49m\u001b[43mestimator\u001b[49m\u001b[38;5;241;43m.\u001b[39;49m\u001b[43mfit\u001b[49m\u001b[43m,\u001b[49m\n\u001b[0;32m    441\u001b[0m \u001b[43m        \u001b[49m\u001b[43mscore_params\u001b[49m\u001b[38;5;241;43m=\u001b[39;49m\u001b[43mrouted_params\u001b[49m\u001b[38;5;241;43m.\u001b[39;49m\u001b[43mscorer\u001b[49m\u001b[38;5;241;43m.\u001b[39;49m\u001b[43mscore\u001b[49m\u001b[43m,\u001b[49m\n\u001b[0;32m    442\u001b[0m \u001b[43m        \u001b[49m\u001b[43mreturn_train_score\u001b[49m\u001b[38;5;241;43m=\u001b[39;49m\u001b[43mreturn_train_score\u001b[49m\u001b[43m,\u001b[49m\n\u001b[0;32m    443\u001b[0m \u001b[43m        \u001b[49m\u001b[43mreturn_times\u001b[49m\u001b[38;5;241;43m=\u001b[39;49m\u001b[38;5;28;43;01mTrue\u001b[39;49;00m\u001b[43m,\u001b[49m\n\u001b[0;32m    444\u001b[0m \u001b[43m        \u001b[49m\u001b[43mreturn_estimator\u001b[49m\u001b[38;5;241;43m=\u001b[39;49m\u001b[43mreturn_estimator\u001b[49m\u001b[43m,\u001b[49m\n\u001b[0;32m    445\u001b[0m \u001b[43m        \u001b[49m\u001b[43merror_score\u001b[49m\u001b[38;5;241;43m=\u001b[39;49m\u001b[43merror_score\u001b[49m\u001b[43m,\u001b[49m\n\u001b[0;32m    446\u001b[0m \u001b[43m    \u001b[49m\u001b[43m)\u001b[49m\n\u001b[0;32m    447\u001b[0m \u001b[43m    \u001b[49m\u001b[38;5;28;43;01mfor\u001b[39;49;00m\u001b[43m \u001b[49m\u001b[43mtrain\u001b[49m\u001b[43m,\u001b[49m\u001b[43m \u001b[49m\u001b[43mtest\u001b[49m\u001b[43m \u001b[49m\u001b[38;5;129;43;01min\u001b[39;49;00m\u001b[43m \u001b[49m\u001b[43mindices\u001b[49m\n\u001b[0;32m    448\u001b[0m \u001b[43m\u001b[49m\u001b[43m)\u001b[49m\n\u001b[0;32m    450\u001b[0m _warn_or_raise_about_fit_failures(results, error_score)\n\u001b[0;32m    452\u001b[0m \u001b[38;5;66;03m# For callable scoring, the return type is only know after calling. If the\u001b[39;00m\n\u001b[0;32m    453\u001b[0m \u001b[38;5;66;03m# return type is a dictionary, the error scores can now be inserted with\u001b[39;00m\n\u001b[0;32m    454\u001b[0m \u001b[38;5;66;03m# the correct key.\u001b[39;00m\n",
      "File \u001b[1;32mc:\\Users\\Aviance\\AppData\\Local\\Programs\\Python\\Python311\\Lib\\site-packages\\sklearn\\utils\\parallel.py:67\u001b[0m, in \u001b[0;36mParallel.__call__\u001b[1;34m(self, iterable)\u001b[0m\n\u001b[0;32m     62\u001b[0m config \u001b[38;5;241m=\u001b[39m get_config()\n\u001b[0;32m     63\u001b[0m iterable_with_config \u001b[38;5;241m=\u001b[39m (\n\u001b[0;32m     64\u001b[0m     (_with_config(delayed_func, config), args, kwargs)\n\u001b[0;32m     65\u001b[0m     \u001b[38;5;28;01mfor\u001b[39;00m delayed_func, args, kwargs \u001b[38;5;129;01min\u001b[39;00m iterable\n\u001b[0;32m     66\u001b[0m )\n\u001b[1;32m---> 67\u001b[0m \u001b[38;5;28;01mreturn\u001b[39;00m \u001b[38;5;28;43msuper\u001b[39;49m\u001b[43m(\u001b[49m\u001b[43m)\u001b[49m\u001b[38;5;241;43m.\u001b[39;49m\u001b[38;5;21;43m__call__\u001b[39;49m\u001b[43m(\u001b[49m\u001b[43miterable_with_config\u001b[49m\u001b[43m)\u001b[49m\n",
      "File \u001b[1;32mc:\\Users\\Aviance\\AppData\\Local\\Programs\\Python\\Python311\\Lib\\site-packages\\joblib\\parallel.py:1918\u001b[0m, in \u001b[0;36mParallel.__call__\u001b[1;34m(self, iterable)\u001b[0m\n\u001b[0;32m   1916\u001b[0m     output \u001b[38;5;241m=\u001b[39m \u001b[38;5;28mself\u001b[39m\u001b[38;5;241m.\u001b[39m_get_sequential_output(iterable)\n\u001b[0;32m   1917\u001b[0m     \u001b[38;5;28mnext\u001b[39m(output)\n\u001b[1;32m-> 1918\u001b[0m     \u001b[38;5;28;01mreturn\u001b[39;00m output \u001b[38;5;28;01mif\u001b[39;00m \u001b[38;5;28mself\u001b[39m\u001b[38;5;241m.\u001b[39mreturn_generator \u001b[38;5;28;01melse\u001b[39;00m \u001b[38;5;28mlist\u001b[39m(output)\n\u001b[0;32m   1920\u001b[0m \u001b[38;5;66;03m# Let's create an ID that uniquely identifies the current call. If the\u001b[39;00m\n\u001b[0;32m   1921\u001b[0m \u001b[38;5;66;03m# call is interrupted early and that the same instance is immediately\u001b[39;00m\n\u001b[0;32m   1922\u001b[0m \u001b[38;5;66;03m# re-used, this id will be used to prevent workers that were\u001b[39;00m\n\u001b[0;32m   1923\u001b[0m \u001b[38;5;66;03m# concurrently finalizing a task from the previous call to run the\u001b[39;00m\n\u001b[0;32m   1924\u001b[0m \u001b[38;5;66;03m# callback.\u001b[39;00m\n\u001b[0;32m   1925\u001b[0m \u001b[38;5;28;01mwith\u001b[39;00m \u001b[38;5;28mself\u001b[39m\u001b[38;5;241m.\u001b[39m_lock:\n",
      "File \u001b[1;32mc:\\Users\\Aviance\\AppData\\Local\\Programs\\Python\\Python311\\Lib\\site-packages\\joblib\\parallel.py:1847\u001b[0m, in \u001b[0;36mParallel._get_sequential_output\u001b[1;34m(self, iterable)\u001b[0m\n\u001b[0;32m   1845\u001b[0m \u001b[38;5;28mself\u001b[39m\u001b[38;5;241m.\u001b[39mn_dispatched_batches \u001b[38;5;241m+\u001b[39m\u001b[38;5;241m=\u001b[39m \u001b[38;5;241m1\u001b[39m\n\u001b[0;32m   1846\u001b[0m \u001b[38;5;28mself\u001b[39m\u001b[38;5;241m.\u001b[39mn_dispatched_tasks \u001b[38;5;241m+\u001b[39m\u001b[38;5;241m=\u001b[39m \u001b[38;5;241m1\u001b[39m\n\u001b[1;32m-> 1847\u001b[0m res \u001b[38;5;241m=\u001b[39m \u001b[43mfunc\u001b[49m\u001b[43m(\u001b[49m\u001b[38;5;241;43m*\u001b[39;49m\u001b[43margs\u001b[49m\u001b[43m,\u001b[49m\u001b[43m \u001b[49m\u001b[38;5;241;43m*\u001b[39;49m\u001b[38;5;241;43m*\u001b[39;49m\u001b[43mkwargs\u001b[49m\u001b[43m)\u001b[49m\n\u001b[0;32m   1848\u001b[0m \u001b[38;5;28mself\u001b[39m\u001b[38;5;241m.\u001b[39mn_completed_tasks \u001b[38;5;241m+\u001b[39m\u001b[38;5;241m=\u001b[39m \u001b[38;5;241m1\u001b[39m\n\u001b[0;32m   1849\u001b[0m \u001b[38;5;28mself\u001b[39m\u001b[38;5;241m.\u001b[39mprint_progress()\n",
      "File \u001b[1;32mc:\\Users\\Aviance\\AppData\\Local\\Programs\\Python\\Python311\\Lib\\site-packages\\sklearn\\utils\\parallel.py:129\u001b[0m, in \u001b[0;36m_FuncWrapper.__call__\u001b[1;34m(self, *args, **kwargs)\u001b[0m\n\u001b[0;32m    127\u001b[0m     config \u001b[38;5;241m=\u001b[39m {}\n\u001b[0;32m    128\u001b[0m \u001b[38;5;28;01mwith\u001b[39;00m config_context(\u001b[38;5;241m*\u001b[39m\u001b[38;5;241m*\u001b[39mconfig):\n\u001b[1;32m--> 129\u001b[0m     \u001b[38;5;28;01mreturn\u001b[39;00m \u001b[38;5;28;43mself\u001b[39;49m\u001b[38;5;241;43m.\u001b[39;49m\u001b[43mfunction\u001b[49m\u001b[43m(\u001b[49m\u001b[38;5;241;43m*\u001b[39;49m\u001b[43margs\u001b[49m\u001b[43m,\u001b[49m\u001b[43m \u001b[49m\u001b[38;5;241;43m*\u001b[39;49m\u001b[38;5;241;43m*\u001b[39;49m\u001b[43mkwargs\u001b[49m\u001b[43m)\u001b[49m\n",
      "File \u001b[1;32mc:\\Users\\Aviance\\AppData\\Local\\Programs\\Python\\Python311\\Lib\\site-packages\\sklearn\\model_selection\\_validation.py:895\u001b[0m, in \u001b[0;36m_fit_and_score\u001b[1;34m(estimator, X, y, scorer, train, test, verbose, parameters, fit_params, score_params, return_train_score, return_parameters, return_n_test_samples, return_times, return_estimator, split_progress, candidate_progress, error_score)\u001b[0m\n\u001b[0;32m    893\u001b[0m         estimator\u001b[38;5;241m.\u001b[39mfit(X_train, \u001b[38;5;241m*\u001b[39m\u001b[38;5;241m*\u001b[39mfit_params)\n\u001b[0;32m    894\u001b[0m     \u001b[38;5;28;01melse\u001b[39;00m:\n\u001b[1;32m--> 895\u001b[0m         \u001b[43mestimator\u001b[49m\u001b[38;5;241;43m.\u001b[39;49m\u001b[43mfit\u001b[49m\u001b[43m(\u001b[49m\u001b[43mX_train\u001b[49m\u001b[43m,\u001b[49m\u001b[43m \u001b[49m\u001b[43my_train\u001b[49m\u001b[43m,\u001b[49m\u001b[43m \u001b[49m\u001b[38;5;241;43m*\u001b[39;49m\u001b[38;5;241;43m*\u001b[39;49m\u001b[43mfit_params\u001b[49m\u001b[43m)\u001b[49m\n\u001b[0;32m    897\u001b[0m \u001b[38;5;28;01mexcept\u001b[39;00m \u001b[38;5;167;01mException\u001b[39;00m:\n\u001b[0;32m    898\u001b[0m     \u001b[38;5;66;03m# Note fit time as time until error\u001b[39;00m\n\u001b[0;32m    899\u001b[0m     fit_time \u001b[38;5;241m=\u001b[39m time\u001b[38;5;241m.\u001b[39mtime() \u001b[38;5;241m-\u001b[39m start_time\n",
      "File \u001b[1;32mc:\\Users\\Aviance\\AppData\\Local\\Programs\\Python\\Python311\\Lib\\site-packages\\sklearn\\base.py:1474\u001b[0m, in \u001b[0;36m_fit_context.<locals>.decorator.<locals>.wrapper\u001b[1;34m(estimator, *args, **kwargs)\u001b[0m\n\u001b[0;32m   1467\u001b[0m     estimator\u001b[38;5;241m.\u001b[39m_validate_params()\n\u001b[0;32m   1469\u001b[0m \u001b[38;5;28;01mwith\u001b[39;00m config_context(\n\u001b[0;32m   1470\u001b[0m     skip_parameter_validation\u001b[38;5;241m=\u001b[39m(\n\u001b[0;32m   1471\u001b[0m         prefer_skip_nested_validation \u001b[38;5;129;01mor\u001b[39;00m global_skip_validation\n\u001b[0;32m   1472\u001b[0m     )\n\u001b[0;32m   1473\u001b[0m ):\n\u001b[1;32m-> 1474\u001b[0m     \u001b[38;5;28;01mreturn\u001b[39;00m \u001b[43mfit_method\u001b[49m\u001b[43m(\u001b[49m\u001b[43mestimator\u001b[49m\u001b[43m,\u001b[49m\u001b[43m \u001b[49m\u001b[38;5;241;43m*\u001b[39;49m\u001b[43margs\u001b[49m\u001b[43m,\u001b[49m\u001b[43m \u001b[49m\u001b[38;5;241;43m*\u001b[39;49m\u001b[38;5;241;43m*\u001b[39;49m\u001b[43mkwargs\u001b[49m\u001b[43m)\u001b[49m\n",
      "File \u001b[1;32mc:\\Users\\Aviance\\AppData\\Local\\Programs\\Python\\Python311\\Lib\\site-packages\\sklearn\\discriminant_analysis.py:628\u001b[0m, in \u001b[0;36mLinearDiscriminantAnalysis.fit\u001b[1;34m(self, X, y)\u001b[0m\n\u001b[0;32m    622\u001b[0m     \u001b[38;5;28;01mif\u001b[39;00m \u001b[38;5;28mself\u001b[39m\u001b[38;5;241m.\u001b[39mcovariance_estimator \u001b[38;5;129;01mis\u001b[39;00m \u001b[38;5;129;01mnot\u001b[39;00m \u001b[38;5;28;01mNone\u001b[39;00m:\n\u001b[0;32m    623\u001b[0m         \u001b[38;5;28;01mraise\u001b[39;00m \u001b[38;5;167;01mValueError\u001b[39;00m(\n\u001b[0;32m    624\u001b[0m             \u001b[38;5;124m\"\u001b[39m\u001b[38;5;124mcovariance estimator \u001b[39m\u001b[38;5;124m\"\u001b[39m\n\u001b[0;32m    625\u001b[0m             \u001b[38;5;124m\"\u001b[39m\u001b[38;5;124mis not supported \u001b[39m\u001b[38;5;124m\"\u001b[39m\n\u001b[0;32m    626\u001b[0m             \u001b[38;5;124m\"\u001b[39m\u001b[38;5;124mwith svd solver. Try another solver\u001b[39m\u001b[38;5;124m\"\u001b[39m\n\u001b[0;32m    627\u001b[0m         )\n\u001b[1;32m--> 628\u001b[0m     \u001b[38;5;28;43mself\u001b[39;49m\u001b[38;5;241;43m.\u001b[39;49m\u001b[43m_solve_svd\u001b[49m\u001b[43m(\u001b[49m\u001b[43mX\u001b[49m\u001b[43m,\u001b[49m\u001b[43m \u001b[49m\u001b[43my\u001b[49m\u001b[43m)\u001b[49m\n\u001b[0;32m    629\u001b[0m \u001b[38;5;28;01melif\u001b[39;00m \u001b[38;5;28mself\u001b[39m\u001b[38;5;241m.\u001b[39msolver \u001b[38;5;241m==\u001b[39m \u001b[38;5;124m\"\u001b[39m\u001b[38;5;124mlsqr\u001b[39m\u001b[38;5;124m\"\u001b[39m:\n\u001b[0;32m    630\u001b[0m     \u001b[38;5;28mself\u001b[39m\u001b[38;5;241m.\u001b[39m_solve_lstsq(\n\u001b[0;32m    631\u001b[0m         X,\n\u001b[0;32m    632\u001b[0m         y,\n\u001b[0;32m    633\u001b[0m         shrinkage\u001b[38;5;241m=\u001b[39m\u001b[38;5;28mself\u001b[39m\u001b[38;5;241m.\u001b[39mshrinkage,\n\u001b[0;32m    634\u001b[0m         covariance_estimator\u001b[38;5;241m=\u001b[39m\u001b[38;5;28mself\u001b[39m\u001b[38;5;241m.\u001b[39mcovariance_estimator,\n\u001b[0;32m    635\u001b[0m     )\n",
      "File \u001b[1;32mc:\\Users\\Aviance\\AppData\\Local\\Programs\\Python\\Python311\\Lib\\site-packages\\sklearn\\discriminant_analysis.py:524\u001b[0m, in \u001b[0;36mLinearDiscriminantAnalysis._solve_svd\u001b[1;34m(self, X, y)\u001b[0m\n\u001b[0;32m    521\u001b[0m \u001b[38;5;66;03m# SVD of centered (within)scaled data\u001b[39;00m\n\u001b[0;32m    522\u001b[0m U, S, Vt \u001b[38;5;241m=\u001b[39m svd(X, full_matrices\u001b[38;5;241m=\u001b[39m\u001b[38;5;28;01mFalse\u001b[39;00m)\n\u001b[1;32m--> 524\u001b[0m rank \u001b[38;5;241m=\u001b[39m \u001b[43mxp\u001b[49m\u001b[38;5;241;43m.\u001b[39;49m\u001b[43msum\u001b[49m(xp\u001b[38;5;241m.\u001b[39mastype(S \u001b[38;5;241m>\u001b[39m \u001b[38;5;28mself\u001b[39m\u001b[38;5;241m.\u001b[39mtol, xp\u001b[38;5;241m.\u001b[39mint32))\n\u001b[0;32m    525\u001b[0m \u001b[38;5;66;03m# Scaling of within covariance is: V' 1/S\u001b[39;00m\n\u001b[0;32m    526\u001b[0m scalings \u001b[38;5;241m=\u001b[39m (Vt[:rank, :] \u001b[38;5;241m/\u001b[39m std)\u001b[38;5;241m.\u001b[39mT \u001b[38;5;241m/\u001b[39m S[:rank]\n",
      "File \u001b[1;32mc:\\Users\\Aviance\\AppData\\Local\\Programs\\Python\\Python311\\Lib\\site-packages\\sklearn\\utils\\_array_api.py:272\u001b[0m, in \u001b[0;36m_NumPyAPIWrapper.__getattr__\u001b[1;34m(self, name)\u001b[0m\n\u001b[0;32m    252\u001b[0m \u001b[38;5;66;03m# Data types in spec\u001b[39;00m\n\u001b[0;32m    253\u001b[0m \u001b[38;5;66;03m# https://data-apis.org/array-api/latest/API_specification/data_types.html\u001b[39;00m\n\u001b[0;32m    254\u001b[0m _DTYPES \u001b[38;5;241m=\u001b[39m {\n\u001b[0;32m    255\u001b[0m     \u001b[38;5;124m\"\u001b[39m\u001b[38;5;124mint8\u001b[39m\u001b[38;5;124m\"\u001b[39m,\n\u001b[0;32m    256\u001b[0m     \u001b[38;5;124m\"\u001b[39m\u001b[38;5;124mint16\u001b[39m\u001b[38;5;124m\"\u001b[39m,\n\u001b[1;32m   (...)\u001b[0m\n\u001b[0;32m    269\u001b[0m     \u001b[38;5;124m\"\u001b[39m\u001b[38;5;124mcomplex128\u001b[39m\u001b[38;5;124m\"\u001b[39m,\n\u001b[0;32m    270\u001b[0m }\n\u001b[1;32m--> 272\u001b[0m \u001b[38;5;28;01mdef\u001b[39;00m \u001b[38;5;21m__getattr__\u001b[39m(\u001b[38;5;28mself\u001b[39m, name):\n\u001b[0;32m    273\u001b[0m     attr \u001b[38;5;241m=\u001b[39m \u001b[38;5;28mgetattr\u001b[39m(numpy, name)\n\u001b[0;32m    275\u001b[0m     \u001b[38;5;66;03m# Support device kwargs and make sure they are on the CPU\u001b[39;00m\n",
      "\u001b[1;31mKeyboardInterrupt\u001b[0m: "
     ]
    }
   ],
   "source": [
    "n_feats = range(1, len(X.columns)+1)\n",
    "f1_nfeat = []\n",
    "\n",
    "kf = StratifiedKFold(n_splits=5, shuffle=True)\n",
    "\n",
    "for n_feat in n_feats:\n",
    "\n",
    "    \n",
    "    f1_cv = []\n",
    "\n",
    "    for train_index, test_index in kf.split(X, y):\n",
    "        # Training phase\n",
    "        X_train = X.iloc[train_index, :]\n",
    "        y_train = y.iloc[train_index]\n",
    "\n",
    "        # Define LDA classifier\n",
    "        clf_cv = LinearDiscriminantAnalysis(priors=[prior_0, prior_1])\n",
    "\n",
    "        # Sequential Feature Selector\n",
    "        fselection_cv = SequentialFeatureSelector(clf_cv, n_features_to_select=n_feat, direction='forward', cv=3)\n",
    "        fselection_cv.fit(X_train, y_train)\n",
    "        X_train_selected = fselection_cv.transform(X_train)\n",
    "\n",
    "        # Train classifier\n",
    "        clf_cv.fit(X_train_selected, y_train)\n",
    "\n",
    "        # Test phase\n",
    "        X_test_selected = fselection_cv.transform(X.iloc[test_index, :])\n",
    "        y_test = y.iloc[test_index]\n",
    "        y_pred = clf_cv.predict(X_test_selected)\n",
    "\n",
    "        # Calculate f1-score for class 1\n",
    "        f1_i = f1_score(y_test, y_pred, pos_label=1)\n",
    "        f1_cv.append(f1_i)\n",
    "        \n",
    "\n",
    "    # Average f1-score for this number of features\n",
    "    f1_avg = np.average(f1_cv)\n",
    "    f1_nfeat.append(f1_avg)\n",
    "    \n",
    "\n",
    "# Find optimal number of features\n",
    "opt_index = np.argmax(f1_nfeat)\n",
    "opt_features = n_feats[opt_index]\n",
    "opt_f1_score = f1_nfeat[opt_index]\n",
    "\n",
    "print(\"Optimal number of features: \", opt_features)\n",
    "print(\"F1-Score (class 1) with optimal number of features: \", opt_f1_score)\n",
    "\n",
    "# Plot f1-score vs number of features\n",
    "plt.plot(n_feats, f1_nfeat)\n",
    "plt.xlabel(\"Number of features\")\n",
    "plt.ylabel(\"F1-Score (class 1)\")\n",
    "plt.title(\"F1-Score vs Number of Features (Sequential Feature Selector + LDA)\")\n",
    "plt.show()"
   ]
  },
  {
   "cell_type": "markdown",
   "metadata": {},
   "source": [
    "### 6. Ahora para un método de selección de características recursivo."
   ]
  },
  {
   "cell_type": "markdown",
   "metadata": {},
   "source": [
    "#### Feature Selection: RFE method"
   ]
  },
  {
   "cell_type": "code",
   "execution_count": null,
   "metadata": {},
   "outputs": [],
   "source": [
    "from sklearn.feature_selection import RFE"
   ]
  },
  {
   "cell_type": "code",
   "execution_count": null,
   "metadata": {},
   "outputs": [],
   "source": [
    "# Inicialización de variables\n",
    "n_feats = range(1, len(X.columns)+1)\n",
    "f1_nfeat = []\n",
    "\n",
    "kf = StratifiedKFold(n_splits=5, shuffle=True)\n",
    "\n",
    "for n_feat in n_feats:\n",
    "    \n",
    "    print(f'---- n features = {n_feat}')\n",
    "    \n",
    "    f1_cv = []\n",
    "\n",
    "    for train_index, test_index in kf.split(X, y):\n",
    "        # Fase de entrenamiento\n",
    "        X_train = X.iloc[train_index, :]\n",
    "        y_train = y.iloc[train_index]\n",
    "\n",
    "        # Definir clasificador con kernel lineal\n",
    "        clf_cv = SVC(kernel='linear', class_weight='balanced')\n",
    "\n",
    "        # Selección de características con RFE\n",
    "        rfe_cv = RFE(estimator=clf_cv, n_features_to_select=n_feat)\n",
    "        rfe_cv.fit(X_train, y_train)\n",
    "        X_train_selected = rfe_cv.transform(X_train)\n",
    "\n",
    "        # Entrenar clasificador\n",
    "        clf_cv.fit(X_train_selected, y_train)\n",
    "\n",
    "        # Fase de prueba\n",
    "        X_test_selected = rfe_cv.transform(X.iloc[test_index, :])\n",
    "        y_test = y.iloc[test_index]\n",
    "        y_pred = clf_cv.predict(X_test_selected)\n",
    "\n",
    "        # Calcular f1-score para la clase 1\n",
    "        f1_i = f1_score(y_test, y_pred, pos_label=1)\n",
    "        f1_cv.append(f1_i)\n",
    "\n",
    "    # F1-score promedio para esta cantidad de características\n",
    "    f1_avg = np.average(f1_cv)\n",
    "    f1_nfeat.append(f1_avg)\n",
    "    \n",
    "    print(f'F1-Score (class 1): {f1_avg}')\n",
    "\n",
    "# Encontrar el número óptimo de características\n",
    "opt_index = np.argmax(f1_nfeat)\n",
    "opt_features = n_feats[opt_index]\n",
    "opt_f1_score = f1_nfeat[opt_index]\n",
    "print(\"Optimal number of features: \", opt_features)\n",
    "print(\"F1-Score (class 1) with optimal number of features: \", opt_f1_score)\n",
    "\n",
    "# Graficar f1-score vs número de características\n",
    "plt.plot(n_feats, f1_nfeat)\n",
    "plt.xlabel(\"Number of features\")\n",
    "plt.ylabel(\"F1-Score (class 1)\")\n",
    "plt.title(\"F1-Score vs Number of Features (RFE + Linear SVC)\")\n",
    "plt.show()"
   ]
  },
  {
   "cell_type": "markdown",
   "metadata": {},
   "source": [
    "### 7. Escoge alguna de las técnicas de selección de características que probaste con anteioridad, y con el número óptimo de características encontrado, prepara tu modelo para producción"
   ]
  },
  {
   "cell_type": "markdown",
   "metadata": {},
   "source": [
    "#### Modelo final: Radial SVC con 128 caracteristicas"
   ]
  },
  {
   "cell_type": "code",
   "execution_count": 50,
   "metadata": {},
   "outputs": [],
   "source": [
    "# Selección de las 128 mejores características\n",
    "num_features = 128\n",
    "fselection = SelectKBest(f_classif, k=num_features)\n",
    "X_selected = fselection.fit_transform(X, y)"
   ]
  },
  {
   "cell_type": "code",
   "execution_count": 54,
   "metadata": {},
   "outputs": [],
   "source": [
    "# Definir clasificador con kernel radial (RBF)\n",
    "clf = SVC(kernel='rbf', class_weight='balanced')"
   ]
  },
  {
   "cell_type": "code",
   "execution_count": 55,
   "metadata": {
    "scrolled": true
   },
   "outputs": [
    {
     "data": {
      "text/html": [
       "<style>#sk-container-id-1 {color: black;background-color: white;}#sk-container-id-1 pre{padding: 0;}#sk-container-id-1 div.sk-toggleable {background-color: white;}#sk-container-id-1 label.sk-toggleable__label {cursor: pointer;display: block;width: 100%;margin-bottom: 0;padding: 0.3em;box-sizing: border-box;text-align: center;}#sk-container-id-1 label.sk-toggleable__label-arrow:before {content: \"▸\";float: left;margin-right: 0.25em;color: #696969;}#sk-container-id-1 label.sk-toggleable__label-arrow:hover:before {color: black;}#sk-container-id-1 div.sk-estimator:hover label.sk-toggleable__label-arrow:before {color: black;}#sk-container-id-1 div.sk-toggleable__content {max-height: 0;max-width: 0;overflow: hidden;text-align: left;background-color: #f0f8ff;}#sk-container-id-1 div.sk-toggleable__content pre {margin: 0.2em;color: black;border-radius: 0.25em;background-color: #f0f8ff;}#sk-container-id-1 input.sk-toggleable__control:checked~div.sk-toggleable__content {max-height: 200px;max-width: 100%;overflow: auto;}#sk-container-id-1 input.sk-toggleable__control:checked~label.sk-toggleable__label-arrow:before {content: \"▾\";}#sk-container-id-1 div.sk-estimator input.sk-toggleable__control:checked~label.sk-toggleable__label {background-color: #d4ebff;}#sk-container-id-1 div.sk-label input.sk-toggleable__control:checked~label.sk-toggleable__label {background-color: #d4ebff;}#sk-container-id-1 input.sk-hidden--visually {border: 0;clip: rect(1px 1px 1px 1px);clip: rect(1px, 1px, 1px, 1px);height: 1px;margin: -1px;overflow: hidden;padding: 0;position: absolute;width: 1px;}#sk-container-id-1 div.sk-estimator {font-family: monospace;background-color: #f0f8ff;border: 1px dotted black;border-radius: 0.25em;box-sizing: border-box;margin-bottom: 0.5em;}#sk-container-id-1 div.sk-estimator:hover {background-color: #d4ebff;}#sk-container-id-1 div.sk-parallel-item::after {content: \"\";width: 100%;border-bottom: 1px solid gray;flex-grow: 1;}#sk-container-id-1 div.sk-label:hover label.sk-toggleable__label {background-color: #d4ebff;}#sk-container-id-1 div.sk-serial::before {content: \"\";position: absolute;border-left: 1px solid gray;box-sizing: border-box;top: 0;bottom: 0;left: 50%;z-index: 0;}#sk-container-id-1 div.sk-serial {display: flex;flex-direction: column;align-items: center;background-color: white;padding-right: 0.2em;padding-left: 0.2em;position: relative;}#sk-container-id-1 div.sk-item {position: relative;z-index: 1;}#sk-container-id-1 div.sk-parallel {display: flex;align-items: stretch;justify-content: center;background-color: white;position: relative;}#sk-container-id-1 div.sk-item::before, #sk-container-id-1 div.sk-parallel-item::before {content: \"\";position: absolute;border-left: 1px solid gray;box-sizing: border-box;top: 0;bottom: 0;left: 50%;z-index: -1;}#sk-container-id-1 div.sk-parallel-item {display: flex;flex-direction: column;z-index: 1;position: relative;background-color: white;}#sk-container-id-1 div.sk-parallel-item:first-child::after {align-self: flex-end;width: 50%;}#sk-container-id-1 div.sk-parallel-item:last-child::after {align-self: flex-start;width: 50%;}#sk-container-id-1 div.sk-parallel-item:only-child::after {width: 0;}#sk-container-id-1 div.sk-dashed-wrapped {border: 1px dashed gray;margin: 0 0.4em 0.5em 0.4em;box-sizing: border-box;padding-bottom: 0.4em;background-color: white;}#sk-container-id-1 div.sk-label label {font-family: monospace;font-weight: bold;display: inline-block;line-height: 1.2em;}#sk-container-id-1 div.sk-label-container {text-align: center;}#sk-container-id-1 div.sk-container {/* jupyter's `normalize.less` sets `[hidden] { display: none; }` but bootstrap.min.css set `[hidden] { display: none !important; }` so we also need the `!important` here to be able to override the default hidden behavior on the sphinx rendered scikit-learn.org. See: https://github.com/scikit-learn/scikit-learn/issues/21755 */display: inline-block !important;position: relative;}#sk-container-id-1 div.sk-text-repr-fallback {display: none;}</style><div id=\"sk-container-id-1\" class=\"sk-top-container\"><div class=\"sk-text-repr-fallback\"><pre>SVC(class_weight=&#x27;balanced&#x27;)</pre><b>In a Jupyter environment, please rerun this cell to show the HTML representation or trust the notebook. <br />On GitHub, the HTML representation is unable to render, please try loading this page with nbviewer.org.</b></div><div class=\"sk-container\" hidden><div class=\"sk-item\"><div class=\"sk-estimator sk-toggleable\"><input class=\"sk-toggleable__control sk-hidden--visually\" id=\"sk-estimator-id-1\" type=\"checkbox\" checked><label for=\"sk-estimator-id-1\" class=\"sk-toggleable__label sk-toggleable__label-arrow\">SVC</label><div class=\"sk-toggleable__content\"><pre>SVC(class_weight=&#x27;balanced&#x27;)</pre></div></div></div></div></div>"
      ],
      "text/plain": [
       "SVC(class_weight='balanced')"
      ]
     },
     "execution_count": 55,
     "metadata": {},
     "output_type": "execute_result"
    }
   ],
   "source": [
    "# Entrenar el clasificador con todos los datos\n",
    "clf.fit(X_selected, y)"
   ]
  },
  {
   "cell_type": "code",
   "execution_count": 56,
   "metadata": {},
   "outputs": [
    {
     "data": {
      "text/plain": [
       "'\\nwith open(\\'radial_svc_model.pkl\\', \\'wb\\') as model_file:\\n    pickle.dump(clf, model_file)\\n\\nprint(\"Modelo Radial SVC guardado en \\'radial_svc_model.pkl\\'\")\\n'"
      ]
     },
     "execution_count": 56,
     "metadata": {},
     "output_type": "execute_result"
    }
   ],
   "source": [
    "# Guardar el modelo en un archivo pickle\n",
    "'''\n",
    "with open('radial_svc_model.pkl', 'wb') as model_file:\n",
    "    pickle.dump(clf, model_file)\n",
    "\n",
    "print(\"Modelo Radial SVC guardado en 'radial_svc_model.pkl'\")\n",
    "'''"
   ]
  },
  {
   "cell_type": "markdown",
   "metadata": {},
   "source": [
    "### 8. Conclusiones"
   ]
  },
  {
   "cell_type": "markdown",
   "metadata": {},
   "source": [
    "Contesta las siguientes preguntas:\n",
    "\n",
    "- A) ¿Qué pasa si no se considera el problema de tener datos desbalanceados para este caso? ¿Por qué?\n",
    "\n",
    "Si no se balancean las clases del conjunto de datos al entrenar un modelo de machine learning, vamos a obtener un modelo que no sepa clasificar la clase minoritaria. Esto se va a traducir en un modelo con muy buen accuracy, pero un mal recall para la clase minoritaria.\n",
    "\n",
    "- B) De todos los clasificadores, ¿cuál o cuales consideras que son adecuados para los datos? ¿Qué propiedades tienen dichos modelos que los hacen apropiados para los datos? Argumenta tu respuesta.\n",
    "\n",
    "Dos de los tres mejores modelos fueron lineales, estos fueron LDA y LinearSVC. Sin embargo, el mejor modelo fue el RadialSVC, el cual es un modelo computacionalmente caro pero capaz de trazar un hiperplano no lineal que clasifique con precisión las observaciones de las distintas clases.\n",
    "\n",
    "- C) ¿Es posibles reducir la dimensionalidad del problema sin perder rendimiento en el modelo? ¿Por qué?\n",
    "\n",
    "Es posible, tanto con métodos de selección de características como de reducción de dimensionalidad. Esto se debe a que, al haber tantas características, pueden existir algunas que no estén aportando información valiosa debido a problemas como colinealidad. Por lo tanto, se pueden prescindir de estas características, o crear un número reducido de nuevas características que sumen un porcentaje alto de varianza explicada de la variable objetivo.\n",
    " \n",
    "- D) ¿Qué método de selección de características consideras el más adecuado para este caso? ¿Por qué?\n",
    "\n",
    "Considero que el método de filtrado es el mejor por el simple hecho de que el costo computacional es significativamente menor a los otros dos métodos.\n",
    "\n",
    "- E) Si quisieras mejorar el rendimiento de tus modelos, ¿qué más se podría hacer?\n",
    "\n",
    "Se podría hacer un ajuste de hiperparámetros a los mejores modelos para asi encontrar los hiperparámetros óptimos."
   ]
  }
 ],
 "metadata": {
  "kernelspec": {
   "display_name": "Python 3 (ipykernel)",
   "language": "python",
   "name": "python3"
  },
  "language_info": {
   "codemirror_mode": {
    "name": "ipython",
    "version": 3
   },
   "file_extension": ".py",
   "mimetype": "text/x-python",
   "name": "python",
   "nbconvert_exporter": "python",
   "pygments_lexer": "ipython3",
   "version": "3.11.4"
  },
  "vscode": {
   "interpreter": {
    "hash": "c812eb984687e98b7686c463c3fae2045e58b2a2b4e065b3dcebe3cb7d51662e"
   }
  }
 },
 "nbformat": 4,
 "nbformat_minor": 2
}
